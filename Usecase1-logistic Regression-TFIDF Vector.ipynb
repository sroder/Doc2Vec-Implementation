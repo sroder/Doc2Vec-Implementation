{
 "cells": [
  {
   "cell_type": "code",
   "execution_count": 1,
   "metadata": {},
   "outputs": [],
   "source": [
    "# importing the Libraries\n",
    "import pandas as pd\n",
    "from sklearn.feature_extraction.text import TfidfVectorizer\n",
    "from sklearn.linear_model import LogisticRegression\n",
    "from sklearn.metrics import accuracy_score\n",
    "from sklearn.metrics import precision_recall_fscore_support\n",
    "from sklearn.model_selection import train_test_split, KFold"
   ]
  },
  {
   "cell_type": "code",
   "execution_count": 2,
   "metadata": {},
   "outputs": [],
   "source": [
    "xls = pd.ExcelFile('laufzeit_vertarg.xlsx')\n",
    "df = pd.read_excel(xls,'Sheet3')"
   ]
  },
  {
   "cell_type": "code",
   "execution_count": 3,
   "metadata": {},
   "outputs": [
    {
     "data": {
      "text/html": [
       "<div>\n",
       "<style scoped>\n",
       "    .dataframe tbody tr th:only-of-type {\n",
       "        vertical-align: middle;\n",
       "    }\n",
       "\n",
       "    .dataframe tbody tr th {\n",
       "        vertical-align: top;\n",
       "    }\n",
       "\n",
       "    .dataframe thead th {\n",
       "        text-align: right;\n",
       "    }\n",
       "</style>\n",
       "<table border=\"1\" class=\"dataframe\">\n",
       "  <thead>\n",
       "    <tr style=\"text-align: right;\">\n",
       "      <th></th>\n",
       "      <th>Beschreibung</th>\n",
       "      <th>Label</th>\n",
       "    </tr>\n",
       "  </thead>\n",
       "  <tbody>\n",
       "    <tr>\n",
       "      <th>0</th>\n",
       "      <td>Das Feld End Date of Policy muss mit dem Wert ...</td>\n",
       "      <td>CheckValue_SAP</td>\n",
       "    </tr>\n",
       "    <tr>\n",
       "      <th>1</th>\n",
       "      <td>Das Feld End Date of Policy wird mit dem Wert ...</td>\n",
       "      <td>CheckValue_SAP</td>\n",
       "    </tr>\n",
       "    <tr>\n",
       "      <th>2</th>\n",
       "      <td>Das Feld Day Rule enthält den Wert 360 Days Pe...</td>\n",
       "      <td>CheckValue_SAP</td>\n",
       "    </tr>\n",
       "    <tr>\n",
       "      <th>3</th>\n",
       "      <td>Tabelle hat immer noch einen Eintrag\\n</td>\n",
       "      <td>CheckValue_SAP</td>\n",
       "    </tr>\n",
       "    <tr>\n",
       "      <th>4</th>\n",
       "      <td>Tabelle im UIBB \"Policy Sections\" enthält eine...</td>\n",
       "      <td>CheckValue_SAP</td>\n",
       "    </tr>\n",
       "  </tbody>\n",
       "</table>\n",
       "</div>"
      ],
      "text/plain": [
       "                                        Beschreibung           Label\n",
       "0  Das Feld End Date of Policy muss mit dem Wert ...  CheckValue_SAP\n",
       "1  Das Feld End Date of Policy wird mit dem Wert ...  CheckValue_SAP\n",
       "2  Das Feld Day Rule enthält den Wert 360 Days Pe...  CheckValue_SAP\n",
       "3             Tabelle hat immer noch einen Eintrag\\n  CheckValue_SAP\n",
       "4  Tabelle im UIBB \"Policy Sections\" enthält eine...  CheckValue_SAP"
      ]
     },
     "execution_count": 3,
     "metadata": {},
     "output_type": "execute_result"
    }
   ],
   "source": [
    "df.head()"
   ]
  },
  {
   "cell_type": "code",
   "execution_count": 5,
   "metadata": {},
   "outputs": [],
   "source": [
    "X_train, X_test, y_train, y_test  = train_test_split(df['Beschreibung'],df['Label'], test_size=0.33, random_state=42)"
   ]
  },
  {
   "cell_type": "code",
   "execution_count": 6,
   "metadata": {},
   "outputs": [],
   "source": [
    "model = LogisticRegression()"
   ]
  },
  {
   "cell_type": "code",
   "execution_count": 7,
   "metadata": {},
   "outputs": [],
   "source": [
    "vectorizer = TfidfVectorizer(min_df=5,\n",
    "                             max_df=0.8,\n",
    "                             sublinear_tf=True,\n",
    "                             use_idf=True, ngram_range=(1, 2))"
   ]
  },
  {
   "cell_type": "code",
   "execution_count": 8,
   "metadata": {},
   "outputs": [],
   "source": [
    "kf = KFold(n_splits=10, random_state=43, shuffle=True)"
   ]
  },
  {
   "cell_type": "code",
   "execution_count": 24,
   "metadata": {},
   "outputs": [
    {
     "name": "stdout",
     "output_type": "stream",
     "text": [
      "Training Data\n",
      "Score  0.94\n",
      "Training Data\n",
      "Score  0.86\n",
      "Training Data\n",
      "Score  0.97\n",
      "Training Data\n",
      "Score  0.92\n",
      "Training Data\n",
      "Score  0.94\n",
      "Training Data\n",
      "Score  0.94\n",
      "Training Data\n"
     ]
    },
    {
     "name": "stderr",
     "output_type": "stream",
     "text": [
      "C:\\ProgramData\\Anaconda3\\lib\\site-packages\\sklearn\\metrics\\classification.py:1135: UndefinedMetricWarning: Precision and F-score are ill-defined and being set to 0.0 in labels with no predicted samples.\n",
      "  'precision', 'predicted', average, warn_for)\n"
     ]
    },
    {
     "name": "stdout",
     "output_type": "stream",
     "text": [
      "Score  0.97\n",
      "Training Data\n",
      "Score  0.93\n",
      "Training Data\n",
      "Score  0.9595959595959596\n",
      "Training Data\n",
      "Score  0.9292929292929293\n"
     ]
    }
   ],
   "source": [
    "import numpy as np\n",
    "accurs = []\n",
    "precision = []\n",
    "recall = []\n",
    "f1 = []\n",
    "for train_index, test_index in kf.split(df):\n",
    "    X_train, X_test = df.iloc[train_index]['Beschreibung'], df.iloc[test_index]['Beschreibung']\n",
    "    y_train, y_test = df.iloc[train_index]['Label'], df.iloc[test_index]['Label']\n",
    "\n",
    "    train_vectors = vectorizer.fit_transform(X_train)\n",
    "    test_vectors = vectorizer.transform(X_test)\n",
    "    print(\"Training Data\")\n",
    "    model.fit(train_vectors, y_train)\n",
    "    prediction = model.predict(test_vectors)\n",
    "    accur = accuracy_score(y_test, prediction)\n",
    "    print(\"Score \",accur)\n",
    "    accurs.append(accur)\n",
    "    cm1,cm2,cm3,_ = precision_recall_fscore_support(y_test, prediction, average='macro')\n",
    "    precision.append(cm1)\n",
    "    recall.append(cm2)\n",
    "    f1.append(cm3)\n"
   ]
  },
  {
   "cell_type": "code",
   "execution_count": 25,
   "metadata": {},
   "outputs": [
    {
     "name": "stdout",
     "output_type": "stream",
     "text": [
      "Mean Accuracy is 93.58888888888887.\n",
      "Mean precision is 0.924898210068499.\n",
      "Mean recall is 0.8935313861462468.\n",
      "Mean f1 score is 0.8986786765390619.\n"
     ]
    }
   ],
   "source": [
    "print(\"Mean Accuracy is {}.\".format((np.mean(accurs))*100))\n",
    "print(\"Mean precision is {}.\".format((np.mean(precision))))\n",
    "print(\"Mean recall is {}.\".format((np.mean(recall))))\n",
    "print(\"Mean f1 score is {}.\".format((np.mean(f1))))"
   ]
  },
  {
   "cell_type": "code",
   "execution_count": 43,
   "metadata": {},
   "outputs": [
    {
     "data": {
      "text/plain": [
       "'Es existieren wieder 2 Einträge.'"
      ]
     },
     "execution_count": 43,
     "metadata": {},
     "output_type": "execute_result"
    }
   ],
   "source": [
    "df['Beschreibung'][test_index[0]]"
   ]
  },
  {
   "cell_type": "code",
   "execution_count": 39,
   "metadata": {},
   "outputs": [
    {
     "data": {
      "text/plain": [
       "array(['CheckValue_SAP'], dtype=object)"
      ]
     },
     "execution_count": 39,
     "metadata": {},
     "output_type": "execute_result"
    }
   ],
   "source": [
    "model.predict(test_vectors[0])"
   ]
  },
  {
   "cell_type": "code",
   "execution_count": 67,
   "metadata": {},
   "outputs": [],
   "source": [
    "\n",
    "#a_test = vectorizer.transform([s])"
   ]
  },
  {
   "cell_type": "code",
   "execution_count": 68,
   "metadata": {},
   "outputs": [
    {
     "data": {
      "text/plain": [
       "array(['Link_Element_click'], dtype=object)"
      ]
     },
     "execution_count": 68,
     "metadata": {},
     "output_type": "execute_result"
    }
   ],
   "source": [
    "model.predict(vectorizer.transform([s]))"
   ]
  },
  {
   "cell_type": "code",
   "execution_count": 69,
   "metadata": {},
   "outputs": [],
   "source": [
    "def Predict_Code(s):\n",
    "    return model.predict(vectorizer.transform([s]))"
   ]
  },
  {
   "cell_type": "code",
   "execution_count": 72,
   "metadata": {},
   "outputs": [
    {
     "data": {
      "text/plain": [
       "array(['Link_Element_click'], dtype=object)"
      ]
     },
     "execution_count": 72,
     "metadata": {},
     "output_type": "execute_result"
    }
   ],
   "source": [
    "s = \"Wechseln auf zur Seite\"\n",
    "Predict_Code(s)"
   ]
  },
  {
   "cell_type": "code",
   "execution_count": 71,
   "metadata": {},
   "outputs": [],
   "source": [
    "from sklearn.externals import joblib"
   ]
  },
  {
   "cell_type": "code",
   "execution_count": null,
   "metadata": {},
   "outputs": [],
   "source": []
  }
 ],
 "metadata": {
  "kernelspec": {
   "display_name": "Python 3",
   "language": "python",
   "name": "python3"
  },
  "language_info": {
   "codemirror_mode": {
    "name": "ipython",
    "version": 3
   },
   "file_extension": ".py",
   "mimetype": "text/x-python",
   "name": "python",
   "nbconvert_exporter": "python",
   "pygments_lexer": "ipython3",
   "version": "3.6.4"
  }
 },
 "nbformat": 4,
 "nbformat_minor": 2
}
