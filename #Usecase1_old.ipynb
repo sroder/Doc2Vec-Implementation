{
 "cells": [
  {
   "cell_type": "code",
   "execution_count": 16,
   "metadata": {},
   "outputs": [],
   "source": [
    "import pickle\n",
    "import itertools\n",
    "import numpy as np\n",
    "from scipy import spatial\n",
    "from scipy.stats import norm\n",
    "import nltk.data\n",
    "from nltk import pos_tag\n",
    "from nltk.corpus import wordnet as wn\n",
    "from nltk.corpus import reuters\n",
    "from nltk. corpus import gutenberg\n",
    "from nltk.corpus import brown\n",
    "from nltk.tokenize import sent_tokenize\n",
    "from gensim.models import KeyedVectors\n",
    "from keras.layers import Input, Dense, Lambda, Layer\n",
    "from keras.callbacks import ModelCheckpoint\n",
    "from keras.models import Model\n",
    "from keras import backend as K\n",
    "from keras import metrics"
   ]
  },
  {
   "cell_type": "code",
   "execution_count": 17,
   "metadata": {},
   "outputs": [],
   "source": [
    "#Read Excel with Pandas\n",
    "import pandas as pd\n",
    "from pandas import ExcelFile\n",
    "df = pd.read_excel('laufzeit_vertarg.xlsx',sheet_name = 'Sheet1')"
   ]
  },
  {
   "cell_type": "code",
   "execution_count": 18,
   "metadata": {},
   "outputs": [
    {
     "data": {
      "text/plain": [
       "Index(['Beschreibung', 'Skript'], dtype='object')"
      ]
     },
     "execution_count": 18,
     "metadata": {},
     "output_type": "execute_result"
    }
   ],
   "source": [
    "df.columns"
   ]
  },
  {
   "cell_type": "code",
   "execution_count": 19,
   "metadata": {},
   "outputs": [
    {
     "data": {
      "text/html": [
       "<div>\n",
       "<style scoped>\n",
       "    .dataframe tbody tr th:only-of-type {\n",
       "        vertical-align: middle;\n",
       "    }\n",
       "\n",
       "    .dataframe tbody tr th {\n",
       "        vertical-align: top;\n",
       "    }\n",
       "\n",
       "    .dataframe thead th {\n",
       "        text-align: right;\n",
       "    }\n",
       "</style>\n",
       "<table border=\"1\" class=\"dataframe\">\n",
       "  <thead>\n",
       "    <tr style=\"text-align: right;\">\n",
       "      <th></th>\n",
       "      <th>Beschreibung</th>\n",
       "      <th>Skript</th>\n",
       "    </tr>\n",
       "  </thead>\n",
       "  <tbody>\n",
       "    <tr>\n",
       "      <th>0</th>\n",
       "      <td>Maximize SAPGuiSession</td>\n",
       "      <td>SAPGuiSession(\"Session\").SAPGuiWindow(\"SAP Eas...</td>\n",
       "    </tr>\n",
       "    <tr>\n",
       "      <th>1</th>\n",
       "      <td>Set Transaktion: /n/MSG/R_V1</td>\n",
       "      <td>SAPGuiSession(\"Session\").SAPGuiWindow(\"SAP Eas...</td>\n",
       "    </tr>\n",
       "    <tr>\n",
       "      <th>2</th>\n",
       "      <td>Drück Enter</td>\n",
       "      <td>SAPGuiSession(\"Session\").SAPGuiWindow(\"SAP Eas...</td>\n",
       "    </tr>\n",
       "    <tr>\n",
       "      <th>3</th>\n",
       "      <td>Set Buchungskreis: HGV1</td>\n",
       "      <td>SAPGuiSession(\"Session\").SAPGuiWindow(\"SAP Eas...</td>\n",
       "    </tr>\n",
       "    <tr>\n",
       "      <th>4</th>\n",
       "      <td>Set Vertragstyp: 1</td>\n",
       "      <td>SAPGuiSession(\"Session\").SAPGuiWindow(\"SAP Eas...</td>\n",
       "    </tr>\n",
       "  </tbody>\n",
       "</table>\n",
       "</div>"
      ],
      "text/plain": [
       "                    Beschreibung  \\\n",
       "0         Maximize SAPGuiSession   \n",
       "1  Set Transaktion: /n/MSG/R_V1    \n",
       "2                    Drück Enter   \n",
       "3        Set Buchungskreis: HGV1   \n",
       "4             Set Vertragstyp: 1   \n",
       "\n",
       "                                              Skript  \n",
       "0  SAPGuiSession(\"Session\").SAPGuiWindow(\"SAP Eas...  \n",
       "1  SAPGuiSession(\"Session\").SAPGuiWindow(\"SAP Eas...  \n",
       "2  SAPGuiSession(\"Session\").SAPGuiWindow(\"SAP Eas...  \n",
       "3  SAPGuiSession(\"Session\").SAPGuiWindow(\"SAP Eas...  \n",
       "4  SAPGuiSession(\"Session\").SAPGuiWindow(\"SAP Eas...  "
      ]
     },
     "execution_count": 19,
     "metadata": {},
     "output_type": "execute_result"
    }
   ],
   "source": [
    "df.head()"
   ]
  },
  {
   "cell_type": "code",
   "execution_count": 20,
   "metadata": {},
   "outputs": [
    {
     "data": {
      "text/plain": [
       "list"
      ]
     },
     "execution_count": 20,
     "metadata": {},
     "output_type": "execute_result"
    }
   ],
   "source": [
    "# reading the first two script as sentences from the file\n",
    "#sentences_x = [df['Skript'][0],df['Skript'][1]]\n",
    "sentences_x = []\n",
    "for i in df['Skript']:\n",
    "    sentences_x.append(i)\n",
    "type(sentences_x)"
   ]
  },
  {
   "cell_type": "code",
   "execution_count": 21,
   "metadata": {},
   "outputs": [
    {
     "data": {
      "text/plain": [
       "['SAPGuiSession(\"Session\").SAPGuiWindow(\"SAP Easy Access  -  Benutzerme\").Maximize',\n",
       " 'SAPGuiSession(\"Session\").SAPGuiWindow(\"SAP Easy Access  -  Benutzerme\").SAPGuiOKCode(\"OKCode\").Set \"/n/msg/r_v1\"',\n",
       " 'SAPGuiSession(\"Session\").SAPGuiWindow(\"SAP Easy Access  -  Benutzerme\").SendKey ENTER',\n",
       " 'SAPGuiSession(\"Session\").SAPGuiWindow(\"SAP Easy Access  -  Benutzerme\").SAPGuiEdit(\"Buchungskreis\").Set \"hgv1\"',\n",
       " 'SAPGuiSession(\"Session\").SAPGuiWindow(\"SAP Easy Access  -  Benutzerme\").SAPGuiEdit(\"Vertragstyp\").Set \"1\"',\n",
       " 'SAPGuiSession(\"Session\").SAPGuiWindow(\"SAP Easy Access  -  Benutzerme\").SAPGuiEdit(\"Vertragsartgruppe\").Set \"npfak\"',\n",
       " 'SAPGuiSession(\"Session\").SAPGuiWindow(\"SAP Easy Access  -  Benutzerme\").SAPGuiEdit(\"Vertragsartgruppe\").SetFocus',\n",
       " 'SAPGuiSession(\"Session\").SAPGuiWindow(\"SAP Easy Access  -  Benutzerme\").SendKey ENTER',\n",
       " 'SAPGuiSession(\"Session\").SAPGuiWindow(\"SAP Easy Access  -  Benutzerme\").SAPGuiStatusBar(\"StatusBar\").Sync',\n",
       " 'SAPGuiSession(\"Session\").SAPGuiWindow(\"SAP Easy Access  -  Benutzerme\").SAPGuiButton(\"Neuanlage\").Click',\n",
       " 'SAPGuiSession(\"Session\").SAPGuiWindow(\"SAP Easy Access  -  Benutzerme\").SAPGuiCheckBox(\"Verwendung im RM\").Set \"ON\"',\n",
       " 'SAPGuiSession(\"Session\").SAPGuiWindow(\"SAP Easy Access  -  Benutzerme\").SAPGuiCheckBox(\"Abr.über. aus RM\").Set \"ON\"',\n",
       " 'SAPGuiSession(\"Session\").SAPGuiWindow(\"SAP Easy Access  -  Benutzerme\").SAPGuiEdit(\"Vertragsnummer\").Set \"WP 16915\"',\n",
       " 'SAPGuiSession(\"Session\").SAPGuiWindow(\"SAP Easy Access  -  Benutzerme\").SAPGuiEdit(\"Zedent\").Set \"axa\"',\n",
       " 'SAPGuiSession(\"Session\").SAPGuiWindow(\"SAP Easy Access  -  Benutzerme\").SAPGuiTable(\"/MSG/SAPLR_S_GLOBAL_DYNPROTC_1\").SetCellData 1,\"Partner (Verantw.)\",\"cka\"',\n",
       " 'SAPGuiSession(\"Session\").SAPGuiWindow(\"SAP Easy Access  -  Benutzerme\").SAPGuiTable(\"/MSG/SAPLR_S_GLOBAL_DYNPROTC_1\").SetCellData 2,\"Partner (Verantw.)\",\"cka\"',\n",
       " 'SAPGuiSession(\"Session\").SAPGuiWindow(\"SAP Easy Access  -  Benutzerme\").SAPGuiTable(\"/MSG/SAPLR_S_GLOBAL_DYNPROTC_1\").SetCellData 3,\"Partner (Verantw.)\",\"cka\"',\n",
       " 'SAPGuiSession(\"Session\").SAPGuiWindow(\"SAP Easy Access  -  Benutzerme\").SAPGuiTable(\"/MSG/SAPLR_S_GLOBAL_DYNPROTC_1\").SelectCell 3,\"Partner (Verantw.)\"',\n",
       " 'SAPGuiSession(\"Session\").SAPGuiWindow(\"SAP Easy Access  -  Benutzerme\").SendKey ENTER',\n",
       " 'Periode anlegen',\n",
       " 'SAPGuiSession(\"Session\").SAPGuiWindow(\"SAP Easy Access  -  Benutzerme\").SAPGuiTabStrip(\"TS\").Select \"Perioden\"',\n",
       " 'SAPGuiSession(\"Session\").SAPGuiWindow(\"SAP Easy Access  -  Benutzerme\").SAPGuiTable(\"/MSG/R_V_KORVASSAPTC_1150\").SelectCell 1,\"Beginn\"',\n",
       " 'SAPGuiSession(\"Session\").SAPGuiWindow(\"SAP Easy Access  -  Benutzerme\").SendKey F2',\n",
       " 'Bestandteil anlegen',\n",
       " 'SAPGuiSession(\"Session\").SAPGuiWindow(\"SAP Easy Access  -  Benutzerme\").SAPGuiButton(\"Anlegen\").Click',\n",
       " 'SAPGuiSession(\"Session\").SAPGuiWindow(\"SAP Easy Access  -  Benutzerme\").SAPGuiEdit(\"Bestandteil\").Set \"1\"',\n",
       " 'SAPGuiSession(\"Session\").SAPGuiWindow(\"SAP Easy Access  -  Benutzerme\").SendKey ENTER',\n",
       " 'SAPGuiSession(\"Session\").SAPGuiWindow(\"SAP Easy Access  -  Benutzerme\").SAPGuiEdit(\"Layer\").Set \"1\"',\n",
       " 'SAPGuiSession(\"Session\").SAPGuiWindow(\"SAP Easy Access  -  Benutzerme\").SAPGuiEdit(\"Branche\").Set \"8\"',\n",
       " 'SAPGuiSession(\"Session\").SAPGuiWindow(\"SAP Easy Access  -  Benutzerme\").SAPGuiEdit(\"Gebiet\").Set \"DE\"',\n",
       " 'SAPGuiSession(\"Session\").SAPGuiWindow(\"SAP Easy Access  -  Benutzerme\").SAPGuiEdit(\"Geschäftsart\").Set \"10\"',\n",
       " 'SAPGuiSession(\"Session\").SAPGuiWindow(\"SAP Easy Access  -  Benutzerme\").SAPGuiEdit(\"Währung\").Set \"eur\"',\n",
       " 'SAPGuiSession(\"Session\").SAPGuiWindow(\"SAP Easy Access  -  Benutzerme\").SAPGuiEdit(\"Kurstyp-Währung\").Set \"m\"',\n",
       " 'SAPGuiSession(\"Session\").SAPGuiWindow(\"SAP Easy Access  -  Benutzerme\").SAPGuiEdit(\"Abrechnungsmodus\").Set \"zeich\"',\n",
       " 'SAPGuiSession(\"Session\").SAPGuiWindow(\"SAP Easy Access  -  Benutzerme\").SAPGuiEdit(\"Abrechnungsmodus\").SetFocus',\n",
       " 'SAPGuiSession(\"Session\").SAPGuiWindow(\"SAP Easy Access  -  Benutzerme\").SendKey ENTER',\n",
       " 'SAPGuiSession(\"Session\").SAPGuiWindow(\"SAP Easy Access  -  Benutzerme\").SAPGuiButton(\"Zurück   (F3)\").Click',\n",
       " 'SAPGuiSession(\"Session\").SAPGuiWindow(\"SAP Easy Access  -  Benutzerme\").SAPGuiButton(\"Zurück   (F3)\").Click',\n",
       " 'Periode auf Status LFD setzen',\n",
       " 'SAPGuiSession(\"Session\").SAPGuiWindow(\"SAP Easy Access  -  Benutzerme\").SAPGuiTable(\"/MSG/R_V_KORVASSAPTC_1150\").SetCellData 1,\"Status\",\"lfd\"',\n",
       " 'SAPGuiSession(\"Session\").SAPGuiWindow(\"SAP Easy Access  -  Benutzerme\").SAPGuiTable(\"/MSG/R_V_KORVASSAPTC_1150\").SelectCell 1,\"Status\"',\n",
       " 'SAPGuiSession(\"Session\").SAPGuiWindow(\"SAP Easy Access  -  Benutzerme\").SendKey ENTER',\n",
       " \"'Vertrag speichern\",\n",
       " 'SAPGuiSession(\"Session\").SAPGuiWindow(\"SAP Easy Access  -  Benutzerme\").SAPGuiButton(\"Sichern   (Strg+S)\").Click',\n",
       " 'SAPGuiSession(\"Session\").SAPGuiWindow(\"SAP Easy Access  -  Benutzerme\").SAPGuiStatusBar(\"StatusBar\").Sync',\n",
       " 'Prüfung: Speichern erfolgreich',\n",
       " 'SAPGuiSession(\"Session\").SAPGuiWindow(\"SAP Easy Access  -  Benutzerme\").SAPGuiStatusBar(\"StatusBar\").Check CheckPoint(\"StatusBar\")',\n",
       " \"'Vom System vergebene Vertragsnummer speichern (VTG)\",\n",
       " 'SAPGuiSession(\"Session\").SAPGuiWindow(\"SAP Easy Access  -  Benutzerme\").SAPGuiEdit(\"Vertragsnummer_2\").Output CheckPoint(\"Vertragsnummer\")',\n",
       " 'SAPGuiSession(\"Session\").SAPGuiWindow(\"SAP Easy Access  -  Benutzerme\").SAPGuiOKCode(\"OKCode\").Set \"/n\"',\n",
       " 'SAPGuiSession(\"Session\").SAPGuiWindow(\"SAP Easy Access  -  Benutzerme\").SendKey ENTER']"
      ]
     },
     "execution_count": 21,
     "metadata": {},
     "output_type": "execute_result"
    }
   ],
   "source": [
    "sentences_x"
   ]
  },
  {
   "cell_type": "code",
   "execution_count": 22,
   "metadata": {},
   "outputs": [],
   "source": [
    "#``RegexpTokenizer`` splits a string into substrings using a regular expression\n",
    "# token_s stores the individual words\n",
    "# for now keeping the stopwords in the sentences\n",
    "from nltk import RegexpTokenizer\n",
    "from nltk.corpus import stopwords\n",
    "tokenizer = RegexpTokenizer('\\w+|\\$[\\d\\.]+|\\S+\\(\\\"\\\".')\n",
    "token_s=[]\n",
    "for i in range(19):\n",
    "    token_s += [tokenizer.tokenize(sentences_x[i])]\n"
   ]
  },
  {
   "cell_type": "code",
   "execution_count": 23,
   "metadata": {},
   "outputs": [
    {
     "data": {
      "text/plain": [
       "[['SAPGuiSession',\n",
       "  'Session',\n",
       "  'SAPGuiWindow',\n",
       "  'SAP',\n",
       "  'Easy',\n",
       "  'Access',\n",
       "  'Benutzerme',\n",
       "  'Maximize'],\n",
       " ['SAPGuiSession',\n",
       "  'Session',\n",
       "  'SAPGuiWindow',\n",
       "  'SAP',\n",
       "  'Easy',\n",
       "  'Access',\n",
       "  'Benutzerme',\n",
       "  'SAPGuiOKCode',\n",
       "  'OKCode',\n",
       "  'Set',\n",
       "  'n',\n",
       "  'msg',\n",
       "  'r_v1'],\n",
       " ['SAPGuiSession',\n",
       "  'Session',\n",
       "  'SAPGuiWindow',\n",
       "  'SAP',\n",
       "  'Easy',\n",
       "  'Access',\n",
       "  'Benutzerme',\n",
       "  'SendKey',\n",
       "  'ENTER'],\n",
       " ['SAPGuiSession',\n",
       "  'Session',\n",
       "  'SAPGuiWindow',\n",
       "  'SAP',\n",
       "  'Easy',\n",
       "  'Access',\n",
       "  'Benutzerme',\n",
       "  'SAPGuiEdit',\n",
       "  'Buchungskreis',\n",
       "  'Set',\n",
       "  'hgv1'],\n",
       " ['SAPGuiSession',\n",
       "  'Session',\n",
       "  'SAPGuiWindow',\n",
       "  'SAP',\n",
       "  'Easy',\n",
       "  'Access',\n",
       "  'Benutzerme',\n",
       "  'SAPGuiEdit',\n",
       "  'Vertragstyp',\n",
       "  'Set',\n",
       "  '1'],\n",
       " ['SAPGuiSession',\n",
       "  'Session',\n",
       "  'SAPGuiWindow',\n",
       "  'SAP',\n",
       "  'Easy',\n",
       "  'Access',\n",
       "  'Benutzerme',\n",
       "  'SAPGuiEdit',\n",
       "  'Vertragsartgruppe',\n",
       "  'Set',\n",
       "  'npfak'],\n",
       " ['SAPGuiSession',\n",
       "  'Session',\n",
       "  'SAPGuiWindow',\n",
       "  'SAP',\n",
       "  'Easy',\n",
       "  'Access',\n",
       "  'Benutzerme',\n",
       "  'SAPGuiEdit',\n",
       "  'Vertragsartgruppe',\n",
       "  'SetFocus'],\n",
       " ['SAPGuiSession',\n",
       "  'Session',\n",
       "  'SAPGuiWindow',\n",
       "  'SAP',\n",
       "  'Easy',\n",
       "  'Access',\n",
       "  'Benutzerme',\n",
       "  'SendKey',\n",
       "  'ENTER'],\n",
       " ['SAPGuiSession',\n",
       "  'Session',\n",
       "  'SAPGuiWindow',\n",
       "  'SAP',\n",
       "  'Easy',\n",
       "  'Access',\n",
       "  'Benutzerme',\n",
       "  'SAPGuiStatusBar',\n",
       "  'StatusBar',\n",
       "  'Sync'],\n",
       " ['SAPGuiSession',\n",
       "  'Session',\n",
       "  'SAPGuiWindow',\n",
       "  'SAP',\n",
       "  'Easy',\n",
       "  'Access',\n",
       "  'Benutzerme',\n",
       "  'SAPGuiButton',\n",
       "  'Neuanlage',\n",
       "  'Click'],\n",
       " ['SAPGuiSession',\n",
       "  'Session',\n",
       "  'SAPGuiWindow',\n",
       "  'SAP',\n",
       "  'Easy',\n",
       "  'Access',\n",
       "  'Benutzerme',\n",
       "  'SAPGuiCheckBox',\n",
       "  'Verwendung',\n",
       "  'im',\n",
       "  'RM',\n",
       "  'Set',\n",
       "  'ON'],\n",
       " ['SAPGuiSession',\n",
       "  'Session',\n",
       "  'SAPGuiWindow',\n",
       "  'SAP',\n",
       "  'Easy',\n",
       "  'Access',\n",
       "  'Benutzerme',\n",
       "  'SAPGuiCheckBox',\n",
       "  'Abr',\n",
       "  'über',\n",
       "  'aus',\n",
       "  'RM',\n",
       "  'Set',\n",
       "  'ON'],\n",
       " ['SAPGuiSession',\n",
       "  'Session',\n",
       "  'SAPGuiWindow',\n",
       "  'SAP',\n",
       "  'Easy',\n",
       "  'Access',\n",
       "  'Benutzerme',\n",
       "  'SAPGuiEdit',\n",
       "  'Vertragsnummer',\n",
       "  'Set',\n",
       "  'WP',\n",
       "  '16915'],\n",
       " ['SAPGuiSession',\n",
       "  'Session',\n",
       "  'SAPGuiWindow',\n",
       "  'SAP',\n",
       "  'Easy',\n",
       "  'Access',\n",
       "  'Benutzerme',\n",
       "  'SAPGuiEdit',\n",
       "  'Zedent',\n",
       "  'Set',\n",
       "  'axa'],\n",
       " ['SAPGuiSession',\n",
       "  'Session',\n",
       "  'SAPGuiWindow',\n",
       "  'SAP',\n",
       "  'Easy',\n",
       "  'Access',\n",
       "  'Benutzerme',\n",
       "  'SAPGuiTable',\n",
       "  'MSG',\n",
       "  'SAPLR_S_GLOBAL_DYNPROTC_1',\n",
       "  'SetCellData',\n",
       "  '1',\n",
       "  'Partner',\n",
       "  'Verantw',\n",
       "  'cka'],\n",
       " ['SAPGuiSession',\n",
       "  'Session',\n",
       "  'SAPGuiWindow',\n",
       "  'SAP',\n",
       "  'Easy',\n",
       "  'Access',\n",
       "  'Benutzerme',\n",
       "  'SAPGuiTable',\n",
       "  'MSG',\n",
       "  'SAPLR_S_GLOBAL_DYNPROTC_1',\n",
       "  'SetCellData',\n",
       "  '2',\n",
       "  'Partner',\n",
       "  'Verantw',\n",
       "  'cka'],\n",
       " ['SAPGuiSession',\n",
       "  'Session',\n",
       "  'SAPGuiWindow',\n",
       "  'SAP',\n",
       "  'Easy',\n",
       "  'Access',\n",
       "  'Benutzerme',\n",
       "  'SAPGuiTable',\n",
       "  'MSG',\n",
       "  'SAPLR_S_GLOBAL_DYNPROTC_1',\n",
       "  'SetCellData',\n",
       "  '3',\n",
       "  'Partner',\n",
       "  'Verantw',\n",
       "  'cka'],\n",
       " ['SAPGuiSession',\n",
       "  'Session',\n",
       "  'SAPGuiWindow',\n",
       "  'SAP',\n",
       "  'Easy',\n",
       "  'Access',\n",
       "  'Benutzerme',\n",
       "  'SAPGuiTable',\n",
       "  'MSG',\n",
       "  'SAPLR_S_GLOBAL_DYNPROTC_1',\n",
       "  'SelectCell',\n",
       "  '3',\n",
       "  'Partner',\n",
       "  'Verantw'],\n",
       " ['SAPGuiSession',\n",
       "  'Session',\n",
       "  'SAPGuiWindow',\n",
       "  'SAP',\n",
       "  'Easy',\n",
       "  'Access',\n",
       "  'Benutzerme',\n",
       "  'SendKey',\n",
       "  'ENTER']]"
      ]
     },
     "execution_count": 23,
     "metadata": {},
     "output_type": "execute_result"
    }
   ],
   "source": [
    "# check out how token_s looks like now\n",
    "token_s"
   ]
  },
  {
   "cell_type": "code",
   "execution_count": 24,
   "metadata": {},
   "outputs": [],
   "source": [
    "# assigning a list of labels for each skript, the labels are mimics of actual sentences\n",
    "# need to test here if Test sentences can be put as labels\n",
    "LabelList = []\n",
    "max_rows = 19\n",
    "for i in range(max_rows):\n",
    "    LabelList.append(df['Beschreibung'][i])"
   ]
  },
  {
   "cell_type": "code",
   "execution_count": 25,
   "metadata": {},
   "outputs": [
    {
     "data": {
      "text/plain": [
       "['Maximize SAPGuiSession',\n",
       " 'Set Transaktion: /n/MSG/R_V1 ',\n",
       " 'Drück Enter',\n",
       " 'Set Buchungskreis: HGV1',\n",
       " 'Set Vertragstyp: 1',\n",
       " 'Set Vertragsartgruppe: NPFAK',\n",
       " 'Bearbeite Vertragsartgruppe',\n",
       " 'Press Enter',\n",
       " 'Warte auf StatusBar',\n",
       " 'Neuanlage Button klicken',\n",
       " 'Set Verwendung RM: Ja',\n",
       " 'Set Abr.über. aus RM: Ja',\n",
       " 'Bezeichnung: Defect 16915',\n",
       " 'Bezeichnung Zedent: AXA',\n",
       " 'Set Partner1 (Verantw.) : cka',\n",
       " 'Set Partner2 (Verantw.) : cka',\n",
       " 'Set Partner3 (Verantw.) : cka',\n",
       " 'SelectCell Partner',\n",
       " 'Click Save']"
      ]
     },
     "execution_count": 25,
     "metadata": {},
     "output_type": "execute_result"
    }
   ],
   "source": [
    "LabelList"
   ]
  },
  {
   "cell_type": "code",
   "execution_count": 26,
   "metadata": {},
   "outputs": [],
   "source": [
    "# label the doc\n",
    "from gensim.models.doc2vec import LabeledSentence, TaggedDocument \n",
    "max_rows = 19\n",
    "tag_doc = []\n",
    "for i in range(max_rows):\n",
    "    #print (i)\n",
    "    tag_doc.append(TaggedDocument(token_s[i],LabelList[i]))"
   ]
  },
  {
   "cell_type": "code",
   "execution_count": 27,
   "metadata": {},
   "outputs": [
    {
     "data": {
      "text/plain": [
       "[TaggedDocument(words=['SAPGuiSession', 'Session', 'SAPGuiWindow', 'SAP', 'Easy', 'Access', 'Benutzerme', 'Maximize'], tags='Maximize SAPGuiSession'),\n",
       " TaggedDocument(words=['SAPGuiSession', 'Session', 'SAPGuiWindow', 'SAP', 'Easy', 'Access', 'Benutzerme', 'SAPGuiOKCode', 'OKCode', 'Set', 'n', 'msg', 'r_v1'], tags='Set Transaktion: /n/MSG/R_V1 '),\n",
       " TaggedDocument(words=['SAPGuiSession', 'Session', 'SAPGuiWindow', 'SAP', 'Easy', 'Access', 'Benutzerme', 'SendKey', 'ENTER'], tags='Drück Enter'),\n",
       " TaggedDocument(words=['SAPGuiSession', 'Session', 'SAPGuiWindow', 'SAP', 'Easy', 'Access', 'Benutzerme', 'SAPGuiEdit', 'Buchungskreis', 'Set', 'hgv1'], tags='Set Buchungskreis: HGV1'),\n",
       " TaggedDocument(words=['SAPGuiSession', 'Session', 'SAPGuiWindow', 'SAP', 'Easy', 'Access', 'Benutzerme', 'SAPGuiEdit', 'Vertragstyp', 'Set', '1'], tags='Set Vertragstyp: 1'),\n",
       " TaggedDocument(words=['SAPGuiSession', 'Session', 'SAPGuiWindow', 'SAP', 'Easy', 'Access', 'Benutzerme', 'SAPGuiEdit', 'Vertragsartgruppe', 'Set', 'npfak'], tags='Set Vertragsartgruppe: NPFAK'),\n",
       " TaggedDocument(words=['SAPGuiSession', 'Session', 'SAPGuiWindow', 'SAP', 'Easy', 'Access', 'Benutzerme', 'SAPGuiEdit', 'Vertragsartgruppe', 'SetFocus'], tags='Bearbeite Vertragsartgruppe'),\n",
       " TaggedDocument(words=['SAPGuiSession', 'Session', 'SAPGuiWindow', 'SAP', 'Easy', 'Access', 'Benutzerme', 'SendKey', 'ENTER'], tags='Press Enter'),\n",
       " TaggedDocument(words=['SAPGuiSession', 'Session', 'SAPGuiWindow', 'SAP', 'Easy', 'Access', 'Benutzerme', 'SAPGuiStatusBar', 'StatusBar', 'Sync'], tags='Warte auf StatusBar'),\n",
       " TaggedDocument(words=['SAPGuiSession', 'Session', 'SAPGuiWindow', 'SAP', 'Easy', 'Access', 'Benutzerme', 'SAPGuiButton', 'Neuanlage', 'Click'], tags='Neuanlage Button klicken'),\n",
       " TaggedDocument(words=['SAPGuiSession', 'Session', 'SAPGuiWindow', 'SAP', 'Easy', 'Access', 'Benutzerme', 'SAPGuiCheckBox', 'Verwendung', 'im', 'RM', 'Set', 'ON'], tags='Set Verwendung RM: Ja'),\n",
       " TaggedDocument(words=['SAPGuiSession', 'Session', 'SAPGuiWindow', 'SAP', 'Easy', 'Access', 'Benutzerme', 'SAPGuiCheckBox', 'Abr', 'über', 'aus', 'RM', 'Set', 'ON'], tags='Set Abr.über. aus RM: Ja'),\n",
       " TaggedDocument(words=['SAPGuiSession', 'Session', 'SAPGuiWindow', 'SAP', 'Easy', 'Access', 'Benutzerme', 'SAPGuiEdit', 'Vertragsnummer', 'Set', 'WP', '16915'], tags='Bezeichnung: Defect 16915'),\n",
       " TaggedDocument(words=['SAPGuiSession', 'Session', 'SAPGuiWindow', 'SAP', 'Easy', 'Access', 'Benutzerme', 'SAPGuiEdit', 'Zedent', 'Set', 'axa'], tags='Bezeichnung Zedent: AXA'),\n",
       " TaggedDocument(words=['SAPGuiSession', 'Session', 'SAPGuiWindow', 'SAP', 'Easy', 'Access', 'Benutzerme', 'SAPGuiTable', 'MSG', 'SAPLR_S_GLOBAL_DYNPROTC_1', 'SetCellData', '1', 'Partner', 'Verantw', 'cka'], tags='Set Partner1 (Verantw.) : cka'),\n",
       " TaggedDocument(words=['SAPGuiSession', 'Session', 'SAPGuiWindow', 'SAP', 'Easy', 'Access', 'Benutzerme', 'SAPGuiTable', 'MSG', 'SAPLR_S_GLOBAL_DYNPROTC_1', 'SetCellData', '2', 'Partner', 'Verantw', 'cka'], tags='Set Partner2 (Verantw.) : cka'),\n",
       " TaggedDocument(words=['SAPGuiSession', 'Session', 'SAPGuiWindow', 'SAP', 'Easy', 'Access', 'Benutzerme', 'SAPGuiTable', 'MSG', 'SAPLR_S_GLOBAL_DYNPROTC_1', 'SetCellData', '3', 'Partner', 'Verantw', 'cka'], tags='Set Partner3 (Verantw.) : cka'),\n",
       " TaggedDocument(words=['SAPGuiSession', 'Session', 'SAPGuiWindow', 'SAP', 'Easy', 'Access', 'Benutzerme', 'SAPGuiTable', 'MSG', 'SAPLR_S_GLOBAL_DYNPROTC_1', 'SelectCell', '3', 'Partner', 'Verantw'], tags='SelectCell Partner'),\n",
       " TaggedDocument(words=['SAPGuiSession', 'Session', 'SAPGuiWindow', 'SAP', 'Easy', 'Access', 'Benutzerme', 'SendKey', 'ENTER'], tags='Click Save')]"
      ]
     },
     "execution_count": 27,
     "metadata": {},
     "output_type": "execute_result"
    }
   ],
   "source": [
    "# check words and tags pair in LabeledSentence\n",
    "type(tag_doc)\n",
    "tag_doc"
   ]
  },
  {
   "cell_type": "code",
   "execution_count": 29,
   "metadata": {},
   "outputs": [],
   "source": [
    "# if there are more than one sentence in TaggedDocument [ls], Doc2Vec model is failing \n",
    "from gensim.models.doc2vec import Doc2Vec\n",
    "# initialize a model\n",
    "model = Doc2Vec(vector_size=300, window=10, workers=1, alpha=0.025, min_alpha=0.01)"
   ]
  },
  {
   "cell_type": "code",
   "execution_count": 30,
   "metadata": {},
   "outputs": [],
   "source": [
    "#build vocab\n",
    "model.build_vocab(tag_doc)"
   ]
  },
  {
   "cell_type": "code",
   "execution_count": 31,
   "metadata": {},
   "outputs": [],
   "source": [
    " # get the initial document vector\n",
    "docvec1 = model.docvecs[0]\n",
    "vectors_docs = model.docvecs.vectors_docs[0]"
   ]
  },
  {
   "cell_type": "code",
   "execution_count": 32,
   "metadata": {},
   "outputs": [
    {
     "data": {
      "text/plain": [
       "(array([ 1.26084825e-03,  1.62353623e-03, -1.16876960e-04, -3.32758675e-04,\n",
       "        -1.53312215e-03, -1.40082557e-03,  1.64607214e-03, -5.40794164e-04,\n",
       "        -8.36672378e-04,  5.89121228e-05,  1.54547009e-03,  1.04503846e-03,\n",
       "        -7.59160146e-04,  1.66317390e-04, -1.13735278e-03,  1.02489511e-03,\n",
       "        -1.94127293e-04, -1.22064888e-03, -7.23884848e-04,  1.25357159e-03,\n",
       "         9.42214741e-04,  1.11870223e-03,  9.78728713e-05,  1.33702275e-03,\n",
       "         4.95025539e-04, -9.25829692e-04,  5.45195478e-04,  1.41082401e-03,\n",
       "        -1.03395886e-03, -4.63464588e-04, -1.01485988e-03, -9.89180058e-04,\n",
       "         3.84335435e-04,  3.25330795e-04, -6.47498237e-05, -1.31028355e-03,\n",
       "        -1.93415704e-04, -1.22902833e-03,  3.63018306e-04, -1.70183717e-04,\n",
       "        -4.61995311e-04,  9.66251770e-04, -1.18336131e-04,  1.14178169e-03,\n",
       "        -1.25603541e-03,  1.49201485e-04,  1.74291737e-04, -9.92195564e-05,\n",
       "        -6.74230250e-05, -3.20234947e-04, -2.61404755e-04,  7.71034684e-06,\n",
       "         1.09253866e-04,  1.50181563e-03,  1.36771880e-03, -1.48482830e-03,\n",
       "        -5.05050062e-04,  8.14514278e-05,  7.75020686e-04,  1.26425223e-03,\n",
       "        -1.24935631e-03,  7.69851031e-04, -1.64704910e-03,  1.26319018e-03,\n",
       "         8.05547577e-04,  3.83929961e-04,  8.30271048e-04,  8.64984177e-04,\n",
       "         3.11378943e-04, -2.96504004e-04, -1.55835424e-03, -1.53546967e-03,\n",
       "        -1.05455471e-03, -1.07632065e-03, -1.22217601e-03, -5.55539387e-04,\n",
       "         6.39237289e-04, -1.36457058e-03,  1.66049231e-05,  1.19934650e-03,\n",
       "         1.59441307e-03,  1.74163711e-06, -3.49950074e-04, -1.18139933e-03,\n",
       "         1.38512638e-04, -2.67460215e-04, -1.14389858e-03, -4.44451958e-04,\n",
       "         3.85793013e-04,  1.47112482e-03, -1.18813547e-03, -1.05797627e-03,\n",
       "        -1.35100482e-03, -5.85698690e-05, -1.12869765e-03, -1.12019479e-03,\n",
       "        -7.84109696e-04, -4.95965243e-04,  4.75070265e-04, -7.61175586e-04,\n",
       "         1.38934283e-03,  2.19920053e-04,  6.58904784e-04,  1.52671349e-03,\n",
       "        -9.98312971e-05,  1.98565147e-04, -1.80609277e-04, -6.49951748e-04,\n",
       "         7.38155213e-04,  1.39498326e-03, -2.25287455e-04, -9.99106909e-04,\n",
       "        -1.07199443e-03,  1.25402538e-03, -6.62193343e-04,  1.48436020e-03,\n",
       "         8.84583133e-05, -1.07501820e-03,  1.39248290e-03,  8.77059763e-04,\n",
       "        -1.24757306e-03, -1.27600320e-03,  1.65209954e-03, -1.92168518e-04,\n",
       "        -1.46084945e-04, -1.26852433e-03, -3.04939691e-04,  3.19404760e-04,\n",
       "         1.48067961e-03, -1.07495778e-03,  1.23901095e-03, -4.54468944e-04,\n",
       "        -1.44578109e-03, -1.24908576e-03,  4.13960224e-04, -9.37066623e-04,\n",
       "        -4.66200174e-04,  1.16836396e-03,  1.05876941e-03, -7.73362233e-04,\n",
       "        -4.96170716e-04,  1.42537057e-03,  3.91471403e-04, -1.05109485e-03,\n",
       "        -2.90175940e-05,  6.46085420e-04,  1.60308764e-03,  1.58571370e-03,\n",
       "         8.79093073e-04,  4.87432044e-05,  1.33857108e-03,  8.92494747e-04,\n",
       "        -5.96107799e-04,  1.55936216e-03,  2.29339901e-04, -2.83426722e-04,\n",
       "         1.94715758e-05, -3.99844663e-04, -1.33843918e-03,  7.67408113e-04,\n",
       "        -1.08407938e-03,  1.46120656e-04,  1.50397501e-03, -1.08412503e-04,\n",
       "        -1.03208004e-03,  1.12338399e-03,  1.00135163e-03,  8.33109603e-04,\n",
       "        -1.18367607e-03, -7.64862489e-05, -5.31665981e-04,  9.22376930e-05,\n",
       "        -2.10036407e-04, -4.72355605e-04, -6.90072426e-04,  1.10742624e-03,\n",
       "        -1.41947216e-03,  3.89781577e-04,  4.58444083e-05,  1.53597468e-03,\n",
       "         1.20617147e-03, -1.57178962e-04,  1.39680190e-03, -5.48448297e-04,\n",
       "         8.91085481e-04, -9.68277629e-04,  1.31314364e-05,  1.27503159e-03,\n",
       "         5.77532745e-04, -7.70582003e-04, -1.04141852e-03,  1.60491362e-03,\n",
       "         1.12836319e-03,  8.26933654e-04, -1.42608036e-03,  7.99652771e-04,\n",
       "        -1.54538313e-03, -3.05255875e-04,  4.41883822e-05, -9.22142295e-04,\n",
       "         1.32043753e-03, -7.76322151e-04, -1.51873333e-04, -9.03017935e-04,\n",
       "         1.48503832e-03, -7.60122319e-04,  1.16762111e-03, -4.26337734e-04,\n",
       "         9.35641932e-04, -1.18914002e-03,  1.04509306e-03,  9.89206274e-06,\n",
       "         3.47476132e-04, -1.37786753e-03,  6.79093355e-04, -1.01383962e-03,\n",
       "        -5.91110613e-04, -1.82304575e-04,  1.20308879e-03,  5.25373034e-04,\n",
       "        -8.31214129e-04, -1.61679438e-03,  1.18141959e-03,  1.29755499e-04,\n",
       "        -6.06404210e-04, -5.77329600e-04, -1.58389925e-03,  7.61232805e-04,\n",
       "         4.91161540e-04, -4.84515884e-04,  1.04156812e-03, -2.16038941e-04,\n",
       "        -1.40831131e-03, -3.50909861e-04, -1.51595566e-04,  3.92960239e-04,\n",
       "        -3.18486738e-04,  1.23730220e-03,  4.63789969e-04, -1.32485206e-04,\n",
       "        -3.92207847e-04, -1.13070651e-03, -1.00867939e-03,  1.55160669e-03,\n",
       "        -1.40164266e-04,  1.08579628e-03,  1.08644541e-03,  1.28039741e-03,\n",
       "        -1.45242654e-03, -8.18678061e-04,  5.73850353e-04, -1.22052955e-03,\n",
       "         1.56629318e-03, -7.35028414e-04, -1.54777500e-03, -9.39411751e-04,\n",
       "        -7.56844936e-04, -9.13612370e-04,  3.16716963e-04,  2.24731528e-04,\n",
       "         5.83997520e-04, -6.37591060e-04,  1.42509025e-03, -1.54471281e-03,\n",
       "         2.74520018e-04, -1.06289180e-03,  8.05274001e-04, -3.48996284e-04,\n",
       "         4.13471105e-04,  1.34164700e-03,  2.55830324e-04,  1.59681274e-03,\n",
       "         1.60389347e-03,  1.57336937e-03, -1.51163631e-03, -1.66659796e-04,\n",
       "         8.75070691e-04,  3.29538510e-04,  1.25890505e-03, -6.67032844e-04,\n",
       "        -9.18489299e-04,  1.04045402e-03, -1.54096715e-03, -1.59387069e-03,\n",
       "         3.21164291e-04, -1.33316658e-04,  9.44485291e-05, -9.86799714e-04,\n",
       "         1.27395894e-03,  8.03169154e-04,  5.62156856e-05,  4.28130501e-04,\n",
       "        -2.37635904e-04,  7.17771822e-04,  1.57539488e-03,  3.24788329e-04,\n",
       "         3.63937637e-04, -8.95088888e-04,  1.05943496e-03,  1.09450208e-04],\n",
       "       dtype=float32),\n",
       " array([ 1.26084825e-03,  1.62353623e-03, -1.16876960e-04, -3.32758675e-04,\n",
       "        -1.53312215e-03, -1.40082557e-03,  1.64607214e-03, -5.40794164e-04,\n",
       "        -8.36672378e-04,  5.89121228e-05,  1.54547009e-03,  1.04503846e-03,\n",
       "        -7.59160146e-04,  1.66317390e-04, -1.13735278e-03,  1.02489511e-03,\n",
       "        -1.94127293e-04, -1.22064888e-03, -7.23884848e-04,  1.25357159e-03,\n",
       "         9.42214741e-04,  1.11870223e-03,  9.78728713e-05,  1.33702275e-03,\n",
       "         4.95025539e-04, -9.25829692e-04,  5.45195478e-04,  1.41082401e-03,\n",
       "        -1.03395886e-03, -4.63464588e-04, -1.01485988e-03, -9.89180058e-04,\n",
       "         3.84335435e-04,  3.25330795e-04, -6.47498237e-05, -1.31028355e-03,\n",
       "        -1.93415704e-04, -1.22902833e-03,  3.63018306e-04, -1.70183717e-04,\n",
       "        -4.61995311e-04,  9.66251770e-04, -1.18336131e-04,  1.14178169e-03,\n",
       "        -1.25603541e-03,  1.49201485e-04,  1.74291737e-04, -9.92195564e-05,\n",
       "        -6.74230250e-05, -3.20234947e-04, -2.61404755e-04,  7.71034684e-06,\n",
       "         1.09253866e-04,  1.50181563e-03,  1.36771880e-03, -1.48482830e-03,\n",
       "        -5.05050062e-04,  8.14514278e-05,  7.75020686e-04,  1.26425223e-03,\n",
       "        -1.24935631e-03,  7.69851031e-04, -1.64704910e-03,  1.26319018e-03,\n",
       "         8.05547577e-04,  3.83929961e-04,  8.30271048e-04,  8.64984177e-04,\n",
       "         3.11378943e-04, -2.96504004e-04, -1.55835424e-03, -1.53546967e-03,\n",
       "        -1.05455471e-03, -1.07632065e-03, -1.22217601e-03, -5.55539387e-04,\n",
       "         6.39237289e-04, -1.36457058e-03,  1.66049231e-05,  1.19934650e-03,\n",
       "         1.59441307e-03,  1.74163711e-06, -3.49950074e-04, -1.18139933e-03,\n",
       "         1.38512638e-04, -2.67460215e-04, -1.14389858e-03, -4.44451958e-04,\n",
       "         3.85793013e-04,  1.47112482e-03, -1.18813547e-03, -1.05797627e-03,\n",
       "        -1.35100482e-03, -5.85698690e-05, -1.12869765e-03, -1.12019479e-03,\n",
       "        -7.84109696e-04, -4.95965243e-04,  4.75070265e-04, -7.61175586e-04,\n",
       "         1.38934283e-03,  2.19920053e-04,  6.58904784e-04,  1.52671349e-03,\n",
       "        -9.98312971e-05,  1.98565147e-04, -1.80609277e-04, -6.49951748e-04,\n",
       "         7.38155213e-04,  1.39498326e-03, -2.25287455e-04, -9.99106909e-04,\n",
       "        -1.07199443e-03,  1.25402538e-03, -6.62193343e-04,  1.48436020e-03,\n",
       "         8.84583133e-05, -1.07501820e-03,  1.39248290e-03,  8.77059763e-04,\n",
       "        -1.24757306e-03, -1.27600320e-03,  1.65209954e-03, -1.92168518e-04,\n",
       "        -1.46084945e-04, -1.26852433e-03, -3.04939691e-04,  3.19404760e-04,\n",
       "         1.48067961e-03, -1.07495778e-03,  1.23901095e-03, -4.54468944e-04,\n",
       "        -1.44578109e-03, -1.24908576e-03,  4.13960224e-04, -9.37066623e-04,\n",
       "        -4.66200174e-04,  1.16836396e-03,  1.05876941e-03, -7.73362233e-04,\n",
       "        -4.96170716e-04,  1.42537057e-03,  3.91471403e-04, -1.05109485e-03,\n",
       "        -2.90175940e-05,  6.46085420e-04,  1.60308764e-03,  1.58571370e-03,\n",
       "         8.79093073e-04,  4.87432044e-05,  1.33857108e-03,  8.92494747e-04,\n",
       "        -5.96107799e-04,  1.55936216e-03,  2.29339901e-04, -2.83426722e-04,\n",
       "         1.94715758e-05, -3.99844663e-04, -1.33843918e-03,  7.67408113e-04,\n",
       "        -1.08407938e-03,  1.46120656e-04,  1.50397501e-03, -1.08412503e-04,\n",
       "        -1.03208004e-03,  1.12338399e-03,  1.00135163e-03,  8.33109603e-04,\n",
       "        -1.18367607e-03, -7.64862489e-05, -5.31665981e-04,  9.22376930e-05,\n",
       "        -2.10036407e-04, -4.72355605e-04, -6.90072426e-04,  1.10742624e-03,\n",
       "        -1.41947216e-03,  3.89781577e-04,  4.58444083e-05,  1.53597468e-03,\n",
       "         1.20617147e-03, -1.57178962e-04,  1.39680190e-03, -5.48448297e-04,\n",
       "         8.91085481e-04, -9.68277629e-04,  1.31314364e-05,  1.27503159e-03,\n",
       "         5.77532745e-04, -7.70582003e-04, -1.04141852e-03,  1.60491362e-03,\n",
       "         1.12836319e-03,  8.26933654e-04, -1.42608036e-03,  7.99652771e-04,\n",
       "        -1.54538313e-03, -3.05255875e-04,  4.41883822e-05, -9.22142295e-04,\n",
       "         1.32043753e-03, -7.76322151e-04, -1.51873333e-04, -9.03017935e-04,\n",
       "         1.48503832e-03, -7.60122319e-04,  1.16762111e-03, -4.26337734e-04,\n",
       "         9.35641932e-04, -1.18914002e-03,  1.04509306e-03,  9.89206274e-06,\n",
       "         3.47476132e-04, -1.37786753e-03,  6.79093355e-04, -1.01383962e-03,\n",
       "        -5.91110613e-04, -1.82304575e-04,  1.20308879e-03,  5.25373034e-04,\n",
       "        -8.31214129e-04, -1.61679438e-03,  1.18141959e-03,  1.29755499e-04,\n",
       "        -6.06404210e-04, -5.77329600e-04, -1.58389925e-03,  7.61232805e-04,\n",
       "         4.91161540e-04, -4.84515884e-04,  1.04156812e-03, -2.16038941e-04,\n",
       "        -1.40831131e-03, -3.50909861e-04, -1.51595566e-04,  3.92960239e-04,\n",
       "        -3.18486738e-04,  1.23730220e-03,  4.63789969e-04, -1.32485206e-04,\n",
       "        -3.92207847e-04, -1.13070651e-03, -1.00867939e-03,  1.55160669e-03,\n",
       "        -1.40164266e-04,  1.08579628e-03,  1.08644541e-03,  1.28039741e-03,\n",
       "        -1.45242654e-03, -8.18678061e-04,  5.73850353e-04, -1.22052955e-03,\n",
       "         1.56629318e-03, -7.35028414e-04, -1.54777500e-03, -9.39411751e-04,\n",
       "        -7.56844936e-04, -9.13612370e-04,  3.16716963e-04,  2.24731528e-04,\n",
       "         5.83997520e-04, -6.37591060e-04,  1.42509025e-03, -1.54471281e-03,\n",
       "         2.74520018e-04, -1.06289180e-03,  8.05274001e-04, -3.48996284e-04,\n",
       "         4.13471105e-04,  1.34164700e-03,  2.55830324e-04,  1.59681274e-03,\n",
       "         1.60389347e-03,  1.57336937e-03, -1.51163631e-03, -1.66659796e-04,\n",
       "         8.75070691e-04,  3.29538510e-04,  1.25890505e-03, -6.67032844e-04,\n",
       "        -9.18489299e-04,  1.04045402e-03, -1.54096715e-03, -1.59387069e-03,\n",
       "         3.21164291e-04, -1.33316658e-04,  9.44485291e-05, -9.86799714e-04,\n",
       "         1.27395894e-03,  8.03169154e-04,  5.62156856e-05,  4.28130501e-04,\n",
       "        -2.37635904e-04,  7.17771822e-04,  1.57539488e-03,  3.24788329e-04,\n",
       "         3.63937637e-04, -8.95088888e-04,  1.05943496e-03,  1.09450208e-04],\n",
       "       dtype=float32))"
      ]
     },
     "execution_count": 32,
     "metadata": {},
     "output_type": "execute_result"
    }
   ],
   "source": [
    "vectors_docs, docvec1"
   ]
  },
  {
   "cell_type": "code",
   "execution_count": 57,
   "metadata": {},
   "outputs": [],
   "source": [
    "  # calculate most similar documents\n",
    "    # (the model is not trained, so the results should be wrong)\n",
    "#id_str = int(id_str)\n",
    "test_doc2vec = model.docvecs[1]\n",
    "docsim1 = model.docvecs.most_similar(positive = [test_doc2vec], topn=3)\n",
    "#type(id_str)\n",
    "#test_doc2vec"
   ]
  },
  {
   "cell_type": "code",
   "execution_count": 34,
   "metadata": {},
   "outputs": [
    {
     "data": {
      "text/plain": [
       "[('a', 1.0), ('H', 0.10422752052545547), ('5', 0.09775698930025101)]"
      ]
     },
     "execution_count": 34,
     "metadata": {},
     "output_type": "execute_result"
    }
   ],
   "source": [
    "docsim1"
   ]
  },
  {
   "cell_type": "code",
   "execution_count": 35,
   "metadata": {},
   "outputs": [],
   "source": [
    "    # train this model\n",
    "model.train(tag_doc, total_examples=len(tag_doc), epochs=10)"
   ]
  },
  {
   "cell_type": "code",
   "execution_count": 66,
   "metadata": {},
   "outputs": [],
   "source": [
    "  # get the trained document vector\n",
    "docvec2 = model.docvecs[0]\n",
    "docvecsyn2 = model.docvecs.vectors_docs[0]"
   ]
  },
  {
   "cell_type": "code",
   "execution_count": 73,
   "metadata": {},
   "outputs": [
    {
     "name": "stdout",
     "output_type": "stream",
     "text": [
      "similar docs are\n",
      "[('M', 0.9961419105529785), ('e', 0.11882452666759491), ('E', 0.1102503314614296), ('b', 0.1046438217163086), ('T', 0.09696125984191895), ('u', 0.08850930631160736), ('J', 0.07386977225542068), (')', 0.07157612591981888), ('h', 0.0689878910779953), (' ', 0.06716625392436981)]\n"
     ]
    }
   ],
   "source": [
    "   # calculate most similar documents\n",
    "    # (we expect the results to be correct)\n",
    "#docsim2 = model.docvecs.most_similar(id_str)\n",
    "test_doc2vec = model.docvecs['B']\n",
    "#docsim2 = model.docvecs.most_similar(positive=[test_doc2vec])\n",
    "docsim2 = model.docvecs.most_similar([docvec2])\n",
    "print ('similar docs are')\n",
    "print (docsim2)\n"
   ]
  },
  {
   "cell_type": "code",
   "execution_count": 64,
   "metadata": {},
   "outputs": [
    {
     "data": {
      "text/plain": [
       "[('Access', 0.08042235672473907),\n",
       " ('Easy', 0.033343322575092316),\n",
       " ('Session', 0.026062119752168655),\n",
       " ('SAPGuiSession', -0.020474687218666077),\n",
       " ('Set', -0.024982942268252373),\n",
       " ('SAPGuiEdit', -0.0342138335108757),\n",
       " ('SAP', -0.06253444403409958),\n",
       " ('Benutzerme', -0.11362167447805405)]"
      ]
     },
     "execution_count": 64,
     "metadata": {},
     "output_type": "execute_result"
    }
   ],
   "source": [
    "word_sim = model.wv.similar_by_word('SAPGuiWindow')\n",
    "word_sim"
   ]
  },
  {
   "cell_type": "code",
   "execution_count": 41,
   "metadata": {},
   "outputs": [
    {
     "name": "stdout",
     "output_type": "stream",
     "text": [
      "Windows-7-6.1.7601-SP1\n",
      "Python 3.6.4 |Anaconda, Inc.| (default, Jan 16 2018, 10:22:32) [MSC v.1900 64 bit (AMD64)]\n",
      "NumPy 1.14.0\n",
      "SciPy 1.0.0\n",
      "gensim 3.4.0\n",
      "FAST_VERSION 1\n"
     ]
    }
   ],
   "source": [
    "# information about system, python and module version\n",
    "import platform; print(platform.platform())\n",
    "import sys; print(\"Python\", sys.version)\n",
    "import numpy; print(\"NumPy\", numpy.__version__)\n",
    "import scipy; print(\"SciPy\", scipy.__version__)\n",
    "import gensim; print(\"gensim\", gensim.__version__)\n",
    "from gensim.models import word2vec;print(\"FAST_VERSION\", word2vec.FAST_VERSION)"
   ]
  },
  {
   "cell_type": "code",
   "execution_count": 68,
   "metadata": {},
   "outputs": [],
   "source": [
    "  # choose one document\n",
    "doc = tag_doc[0].words"
   ]
  },
  {
   "cell_type": "code",
   "execution_count": 70,
   "metadata": {},
   "outputs": [],
   "source": [
    "    # infer vectors with different 'steps' parameters\n",
    "infervec1 = model.infer_vector(doc, alpha=0.025, min_alpha=0.01, steps=1)\n",
    "infervec2 = model.infer_vector(doc, alpha=0.025, min_alpha=0.01, steps=10)\n",
    "infervec3 = model.infer_vector(doc, alpha=0.025, min_alpha=0.01, steps=100)\n",
    "infervec4 = model.infer_vector(doc, alpha=0.025, min_alpha=0.01, steps=1000)"
   ]
  },
  {
   "cell_type": "code",
   "execution_count": 73,
   "metadata": {},
   "outputs": [
    {
     "name": "stdout",
     "output_type": "stream",
     "text": [
      "Document vector:\n",
      "[ 2.9753798e-03 -2.4279458e-03  9.7049524e-05 -2.8524832e-03\n",
      "  2.7555079e-04]\n",
      "[ 2.9753798e-03 -2.4279458e-03  9.7049524e-05 -2.8524832e-03\n",
      "  2.7555079e-04]\n",
      "[ 2.9753798e-03 -2.4279458e-03  9.7049524e-05 -2.8524832e-03\n",
      "  2.7555079e-04]\n",
      "[ 2.9753798e-03 -2.4279458e-03  9.7049524e-05 -2.8524832e-03\n",
      "  2.7555079e-04]\n",
      "Most similar:\n",
      "[('Neuanlage klicken', -0.03615549951791763)]\n",
      "[('Maximize', -0.03615549951791763)]\n",
      "Infered vector:\n",
      "[ 0.00382353 -0.00492315 -0.0034303  -0.00365737  0.00150728]\n",
      "[ 0.00385699 -0.00490817 -0.00344525 -0.00367717  0.00149982]\n",
      "[ 0.00408777 -0.00480479 -0.00354841 -0.00381376  0.00144835]\n",
      "[ 0.00613369 -0.00399387 -0.00442289 -0.00505528  0.00101849]\n",
      "Norm of infered vector:\n",
      "0.031142825\n",
      "0.031136705\n",
      "0.031138709\n",
      "0.034457378\n"
     ]
    }
   ],
   "source": [
    "   # print results\n",
    "\n",
    "    # document vector\n",
    "print('Document vector:')\n",
    "\n",
    "    # we can see that the document vectors do not change after training.\n",
    "print(docvec1[:5])\n",
    "print(docvec2[:5])\n",
    "print(vectors_docs[:5])\n",
    "print(docvecsyn2[:5])\n",
    "\n",
    "    # most similar documents\n",
    "print('Most similar:')\n",
    "\n",
    "    # before training, the result is wrong. after training, correct. good.\n",
    "print(docsim1[:2])\n",
    "print(docsim2[:2])\n",
    "\n",
    "    # infered vectors with different 'steps' parameters\n",
    "print('Infered vector:')\n",
    "\n",
    "    # we can see that, they are quite different.\n",
    "print(infervec1[:5])\n",
    "print(infervec2[:5])\n",
    "print(infervec3[:5])\n",
    "print(infervec4[:5])\n",
    "\n",
    "    # norm of inferred vectors\n",
    "print('Norm of infered vector:')\n",
    "\n",
    "    # it seems that, the norm of inferred vectors would be larger for bigger steps\n",
    "print(np.linalg.norm(infervec1))\n",
    "print(np.linalg.norm(infervec2))\n",
    "print(np.linalg.norm(infervec3))\n",
    "print(np.linalg.norm(infervec4))\n"
   ]
  },
  {
   "cell_type": "code",
   "execution_count": 70,
   "metadata": {},
   "outputs": [],
   "source": [
    "from IPython.display import HTML"
   ]
  },
  {
   "cell_type": "code",
   "execution_count": 77,
   "metadata": {},
   "outputs": [
    {
     "data": {
      "text/html": [
       "<script>\n",
       "  $(document).ready(function(){\n",
       "    $('div.prompt').hide();\n",
       "    $('div.back-to-top').hide();\n",
       "    $('nav#menubar').hide();\n",
       "    $('.breadcrumb').hide();\n",
       "    $('.hidden-print').hide();\n",
       "  });\n",
       "</script>\n",
       "\n",
       "<footer id=\"attribution\" style=\"float:right; color:#999; background:#fff;\">\n",
       "Machine Learning Use Case - Saurabh Kumar.\n",
       "</footer>"
      ],
      "text/plain": [
       "<IPython.core.display.HTML object>"
      ]
     },
     "execution_count": 77,
     "metadata": {},
     "output_type": "execute_result"
    }
   ],
   "source": [
    "# footnote at the end\n",
    "HTML('''<script>\n",
    "  $(document).ready(function(){\n",
    "    $('div.prompt').hide();\n",
    "    $('div.back-to-top').hide();\n",
    "    $('nav#menubar').hide();\n",
    "    $('.breadcrumb').hide();\n",
    "    $('.hidden-print').hide();\n",
    "  });\n",
    "</script>\n",
    "\n",
    "<footer id=\"attribution\" style=\"float:right; color:#999; background:#fff;\">\n",
    "Machine Learning Use Case - Saurabh Kumar.\n",
    "</footer>''')"
   ]
  },
  {
   "cell_type": "code",
   "execution_count": 76,
   "metadata": {},
   "outputs": [
    {
     "data": {
      "text/html": [
       "<script>\n",
       "  jQuery(document).ready(function($) {\n",
       "\n",
       "  $(window).load(function(){\n",
       "    $('#preloader').fadeOut('slow',function(){$(this).remove();});\n",
       "  });\n",
       "\n",
       "  });\n",
       "</script>\n",
       "\n",
       "<style type=\"text/css\">\n",
       "  div#preloader { position: fixed;\n",
       "      left: 0;\n",
       "      top: 0;\n",
       "      z-index: 999;\n",
       "      width: 100%;\n",
       "      height: 100%;\n",
       "      overflow: visible;\n",
       "      background: #fff url('http://preloaders.net/preloaders/720/Moving%20line.gif') no-repeat center center;\n",
       "  }\n",
       "\n",
       "</style>\n",
       "\n",
       "<div id=\"preloader\"></div>"
      ],
      "text/plain": [
       "<IPython.core.display.HTML object>"
      ]
     },
     "execution_count": 76,
     "metadata": {},
     "output_type": "execute_result"
    }
   ],
   "source": [
    "HTML('''<script>\n",
    "  jQuery(document).ready(function($) {\n",
    "\n",
    "  $(window).load(function(){\n",
    "    $('#preloader').fadeOut('slow',function(){$(this).remove();});\n",
    "  });\n",
    "\n",
    "  });\n",
    "</script>\n",
    "\n",
    "<style type=\"text/css\">\n",
    "  div#preloader { position: fixed;\n",
    "      left: 0;\n",
    "      top: 0;\n",
    "      z-index: 999;\n",
    "      width: 100%;\n",
    "      height: 100%;\n",
    "      overflow: visible;\n",
    "      background: #fff url('http://preloaders.net/preloaders/720/Moving%20line.gif') no-repeat center center;\n",
    "  }\n",
    "\n",
    "</style>\n",
    "\n",
    "<div id=\"preloader\"></div>''')"
   ]
  },
  {
   "cell_type": "code",
   "execution_count": 78,
   "metadata": {},
   "outputs": [
    {
     "data": {
      "text/html": [
       "<script>\n",
       "  function code_toggle() {\n",
       "    if (code_shown){\n",
       "      $('div.input').hide('500');\n",
       "      $('#toggleButton').val('Show Code')\n",
       "    } else {\n",
       "      $('div.input').show('500');\n",
       "      $('#toggleButton').val('Hide Code')\n",
       "    }\n",
       "    code_shown = !code_shown\n",
       "  }\n",
       "\n",
       "  $( document ).ready(function(){\n",
       "    code_shown=false;\n",
       "    $('div.input').hide()\n",
       "  });\n",
       "</script>\n",
       "<form action=\"javascript:code_toggle()\"><input type=\"submit\" id=\"toggleButton\" value=\"Show Code\"></form>"
      ],
      "text/plain": [
       "<IPython.core.display.HTML object>"
      ]
     },
     "execution_count": 78,
     "metadata": {},
     "output_type": "execute_result"
    }
   ],
   "source": [
    "# hide the code above\n",
    "HTML('''<script>\n",
    "  function code_toggle() {\n",
    "    if (code_shown){\n",
    "      $('div.input').hide('500');\n",
    "      $('#toggleButton').val('Show Code')\n",
    "    } else {\n",
    "      $('div.input').show('500');\n",
    "      $('#toggleButton').val('Hide Code')\n",
    "    }\n",
    "    code_shown = !code_shown\n",
    "  }\n",
    "\n",
    "  $( document ).ready(function(){\n",
    "    code_shown=false;\n",
    "    $('div.input').hide()\n",
    "  });\n",
    "</script>\n",
    "<form action=\"javascript:code_toggle()\"><input type=\"submit\" id=\"toggleButton\" value=\"Show Code\"></form>''')\n"
   ]
  }
 ],
 "metadata": {
  "kernelspec": {
   "display_name": "Python 3",
   "language": "python",
   "name": "python3"
  },
  "language_info": {
   "codemirror_mode": {
    "name": "ipython",
    "version": 3
   },
   "file_extension": ".py",
   "mimetype": "text/x-python",
   "name": "python",
   "nbconvert_exporter": "python",
   "pygments_lexer": "ipython3",
   "version": "3.6.4"
  }
 },
 "nbformat": 4,
 "nbformat_minor": 2
}
